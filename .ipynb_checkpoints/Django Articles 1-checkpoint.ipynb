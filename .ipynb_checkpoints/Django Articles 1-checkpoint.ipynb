{
 "metadata": {
  "name": "",
  "signature": "sha256:d3e4eb51e76aacc018fbea1d52bce346e3db205c6c2945262e592ffdb2e44368"
 },
 "nbformat": 3,
 "nbformat_minor": 0,
 "worksheets": [
  {
   "cells": [
    {
     "cell_type": "code",
     "collapsed": false,
     "input": [
      "from articles.models import Article"
     ],
     "language": "python",
     "metadata": {},
     "outputs": [],
     "prompt_number": 1
    },
    {
     "cell_type": "code",
     "collapsed": false,
     "input": [
      "Article.objects.all()"
     ],
     "language": "python",
     "metadata": {},
     "outputs": [
      {
       "metadata": {},
       "output_type": "pyout",
       "prompt_number": 2,
       "text": [
        "[<Article: Title1 yeah>, <Article: Title2 Wind yeah>, <Article: Title Again yeah>, <Article: Ibbi goes to Town yeah>, <Article: Wine Lovers yeah>]"
       ]
      }
     ],
     "prompt_number": 2
    },
    {
     "cell_type": "code",
     "collapsed": false,
     "input": [
      "for a in Article.objects.all():\n",
      "    print a.id, a.title"
     ],
     "language": "python",
     "metadata": {},
     "outputs": [
      {
       "output_type": "stream",
       "stream": "stdout",
       "text": [
        "1 Title1\n",
        "2 Title2 Wind\n",
        "3 Title Again\n",
        "4 Ibbi goes to Town\n",
        "5 Wine Lovers\n"
       ]
      }
     ],
     "prompt_number": 3
    },
    {
     "cell_type": "code",
     "collapsed": false,
     "input": [
      "Article.objects.count()"
     ],
     "language": "python",
     "metadata": {},
     "outputs": [
      {
       "metadata": {},
       "output_type": "pyout",
       "prompt_number": 4,
       "text": [
        "5"
       ]
      }
     ],
     "prompt_number": 4
    },
    {
     "cell_type": "markdown",
     "metadata": {},
     "source": [
      "to do tab completion, you hit **tab**, believe it or not! :)"
     ]
    },
    {
     "cell_type": "code",
     "collapsed": false,
     "input": [
      "Article.objects.creation_counter"
     ],
     "language": "python",
     "metadata": {},
     "outputs": [
      {
       "metadata": {},
       "output_type": "pyout",
       "prompt_number": 1,
       "text": [
        "21"
       ]
      }
     ],
     "prompt_number": 1
    },
    {
     "cell_type": "markdown",
     "metadata": {},
     "source": [
      "Now let's drive the REST api"
     ]
    },
    {
     "cell_type": "code",
     "collapsed": false,
     "input": [
      "from articles.serializers import *"
     ],
     "language": "python",
     "metadata": {},
     "outputs": [],
     "prompt_number": 2
    },
    {
     "cell_type": "code",
     "collapsed": false,
     "input": [
      "a1 = Article.objects.all()[0]   # this could be improved?\n",
      "serializer = ArticleSerializer(a1)\n",
      "serializer.data"
     ],
     "language": "python",
     "metadata": {},
     "outputs": [
      {
       "metadata": {},
       "output_type": "pyout",
       "prompt_number": 3,
       "text": [
        "{'id': 1, 'title': u'Title1', 'likes': 2, 'dislikes': 0, 'pub_date': None, 'body': u'Published on Feb 10, 2013\\nthis tutorial covers how to package you urls with you apps and include into your project as well as passing values in your urls through to your views and ending up in your template pages'}"
       ]
      }
     ],
     "prompt_number": 3
    },
    {
     "cell_type": "markdown",
     "metadata": {},
     "source": [
      "To serial multiple objects, you need to pass in the 'many' flag"
     ]
    },
    {
     "cell_type": "code",
     "collapsed": false,
     "input": [
      "serializer = ArticleSerializer(Article.objects.all()[0:3], many=True)\n",
      "serializer.data"
     ],
     "language": "python",
     "metadata": {},
     "outputs": [
      {
       "metadata": {},
       "output_type": "pyout",
       "prompt_number": 6,
       "text": [
        "[{'id': 1, 'title': u'Title1', 'likes': 2, 'dislikes': 0, 'pub_date': None, 'body': u'Published on Feb 10, 2013\\nthis tutorial covers how to package you urls with you apps and include into your project as well as passing values in your urls through to your views and ending up in your template pages'},\n",
        " {'id': 2, 'title': u'Title2 Wind', 'likes': 1001, 'dislikes': 0, 'pub_date': datetime.datetime(2014, 7, 4, 18, 22, 36, tzinfo=<UTC>), 'body': u'blah di blah in the WILLOWS'},\n",
        " {'id': 3, 'title': u'Title Again', 'likes': 0, 'dislikes': 0, 'pub_date': datetime.datetime(2014, 7, 1, 12, 46, 52, 679730, tzinfo=<UTC>), 'body': u'Ibbi was here'}]"
       ]
      }
     ],
     "prompt_number": 6
    },
    {
     "cell_type": "code",
     "collapsed": false,
     "input": [],
     "language": "python",
     "metadata": {},
     "outputs": []
    }
   ],
   "metadata": {}
  }
 ]
}