{
 "metadata": {
  "name": "",
  "signature": "sha256:1e43a275094767cef04093e816ff1cf0e4a2c8f98fb8366d25fe17eecf4c226c"
 },
 "nbformat": 3,
 "nbformat_minor": 0,
 "worksheets": [
  {
   "cells": [
    {
     "cell_type": "code",
     "collapsed": false,
     "input": [
      "from articles.models import Article"
     ],
     "language": "python",
     "metadata": {},
     "outputs": [],
     "prompt_number": 2
    },
    {
     "cell_type": "code",
     "collapsed": false,
     "input": [
      "Article.objects.all()"
     ],
     "language": "python",
     "metadata": {},
     "outputs": [
      {
       "metadata": {},
       "output_type": "pyout",
       "prompt_number": 3,
       "text": [
        "[<Article: Title1 yeah>, <Article: Title2 Wind yeah>, <Article: Title Again yeah>, <Article: Ibbi goes to Town yeah>, <Article: Wine Lovers yeah>]"
       ]
      }
     ],
     "prompt_number": 3
    },
    {
     "cell_type": "code",
     "collapsed": false,
     "input": [
      "for a in Article.objects.all():\n",
      "    print a.id, a.title"
     ],
     "language": "python",
     "metadata": {},
     "outputs": [
      {
       "output_type": "stream",
       "stream": "stdout",
       "text": [
        "1 Title1\n",
        "2 Title2 Wind\n",
        "3 Title Again\n",
        "4 Ibbi goes to Town\n",
        "5 Wine Lovers\n"
       ]
      }
     ],
     "prompt_number": 4
    },
    {
     "cell_type": "code",
     "collapsed": false,
     "input": [],
     "language": "python",
     "metadata": {},
     "outputs": []
    }
   ],
   "metadata": {}
  }
 ]
}